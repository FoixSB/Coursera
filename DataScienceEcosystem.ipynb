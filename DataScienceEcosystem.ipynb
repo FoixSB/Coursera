{
 "cells": [
  {
   "cell_type": "markdown",
   "id": "2f7b3727-5689-44b9-bbda-47c49b8fabae",
   "metadata": {},
   "source": [
    "# Dara Science Tools and Ecosystems"
   ]
  },
  {
   "cell_type": "markdown",
   "id": "a50f2f68-9cd6-46cb-8304-5d9e601efe96",
   "metadata": {},
   "source": [
    "## Author:\n",
    "Foix Soler Balaguer"
   ]
  },
  {
   "cell_type": "markdown",
   "id": "a6518ac9-9034-40e8-8208-2d16ad812579",
   "metadata": {},
   "source": [
    "In this notebook, Data Science Tools and Ecosystem are summarized."
   ]
  },
  {
   "cell_type": "markdown",
   "id": "16389244-1961-4c09-96de-8e3f1dbd63fa",
   "metadata": {},
   "source": [
    "**Objectives**\n",
    "- Create a Jupyter Notebook\n",
    "- Insert code and markdown cells\n",
    "- Share your notebook through GitHub\n",
    "- List popular languages for Data Science\n",
    "- List popular libraries used in Data Science\n"
   ]
  },
  {
   "cell_type": "markdown",
   "id": "f31d58e7-424c-4a46-9034-11d4091d793e",
   "metadata": {},
   "source": [
    "Some of the popular languages that Data Science use are:\n",
    "1. R\n",
    "2. Python\n",
    "3. SQL\n",
    "4. Julia"
   ]
  },
  {
   "cell_type": "markdown",
   "id": "26e4aee5-c3a5-4a2b-807f-14ea028ed5fa",
   "metadata": {},
   "source": [
    "Some of the commonly used libraries used by Data Scientists include:\n",
    "1. Pandas\n",
    "2. NumPy\n",
    "3. Matplotlib\n",
    "4. GGplot2\n",
    "5. Tensorflow"
   ]
  },
  {
   "cell_type": "markdown",
   "id": "aab43c71-226b-469e-9d57-66f39ab1a154",
   "metadata": {},
   "source": [
    "| Dara Science Tools |\n",
    "| ------------------ |\n",
    "| Juoyter Notebook |\n",
    "| RStudio |\n",
    "| VS Code |"
   ]
  },
  {
   "cell_type": "markdown",
   "id": "cf23fd81-ed4c-44c3-9bb6-25704a8a1d12",
   "metadata": {},
   "source": [
    "### Below are a few examples of evaluating arithmetic expressions in Python"
   ]
  },
  {
   "cell_type": "code",
   "execution_count": 1,
   "id": "62dce4a6-01c8-4481-8c72-e25bf8433b2f",
   "metadata": {},
   "outputs": [
    {
     "data": {
      "text/plain": [
       "17"
      ]
     },
     "execution_count": 1,
     "metadata": {},
     "output_type": "execute_result"
    }
   ],
   "source": [
    "# This a simple arithmetic expression to multiply then add integers\n",
    "\n",
    "(3*4)+5"
   ]
  },
  {
   "cell_type": "code",
   "execution_count": 2,
   "id": "6a734e75-d424-4252-8527-5178fdb23b93",
   "metadata": {},
   "outputs": [
    {
     "data": {
      "text/plain": [
       "3.3333333333333335"
      ]
     },
     "execution_count": 2,
     "metadata": {},
     "output_type": "execute_result"
    }
   ],
   "source": [
    "# This will convert 200 minutes to hours by dividing by 60\n",
    "\n",
    "200/60"
   ]
  }
 ],
 "metadata": {
  "kernelspec": {
   "display_name": "Python 3 (ipykernel)",
   "language": "python",
   "name": "python3"
  },
  "language_info": {
   "codemirror_mode": {
    "name": "ipython",
    "version": 3
   },
   "file_extension": ".py",
   "mimetype": "text/x-python",
   "name": "python",
   "nbconvert_exporter": "python",
   "pygments_lexer": "ipython3",
   "version": "3.12.8"
  }
 },
 "nbformat": 4,
 "nbformat_minor": 5
}
